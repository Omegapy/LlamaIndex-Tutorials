{
 "cells": [
  {
   "cell_type": "markdown",
   "source": [
    "# LlamaIndex LlamaIndex Doc-Metadata : LlamaIndex Intro. Tutorial\n",
    "Alejandro Ricciardi (Omegapy)  \n",
    "created date: 12/26/2023 \n",
    "GitHub: https://github.com/Omegapy\n",
    "\n",
    "Projects Description:\n",
    "Load data and create document objects in LlamaIndex.\n",
    "Specifically markdown files for now. And read Metadata.\n",
    "\n",
    "Initialization\n",
    "- For markdown Docs. Reader see llama_docs_bot/markdown_docs_reader.py (it Extract text from markdown files into Document objects.)\n",
    "- Load markdown docs from a director function\n",
    "- loads project documents from each folder\n",
    "\n",
    "Read Metadata\n",
    "- MetadataMode make printed file look nice\n",
    "- Improve the Metadata print formatting \n",
    "\n",
    "Metadata Printing Advanced Customization\n",
    "- Hide the File Name from the LLM\n",
    "- Hide the File Name from the Embedding Model \n",
    "\n",
    "credit: LlamaIndex https://www.youtube.com/watch?v=nGNoacku0YY"
   ],
   "metadata": {
    "collapsed": false
   },
   "id": "12b5286865132543"
  },
  {
   "cell_type": "markdown",
   "source": [
    "## Initialization"
   ],
   "metadata": {
    "collapsed": false
   },
   "id": "a52f42ee7b411110"
  },
  {
   "cell_type": "markdown",
   "source": [
    "### Markdown Docs Reader (MarkdownDocsReader.py - class)\n",
    "LlamaIndex has provided an implementation of a custom markdown loaded in the source code. Let's test it out to see how it works!"
   ],
   "metadata": {
    "collapsed": false
   },
   "id": "32413a017d3ce7ef"
  },
  {
   "cell_type": "code",
   "outputs": [],
   "source": [
    "from llama_docs_bot.markdown_docs_reader import MarkdownDocsReader"
   ],
   "metadata": {
    "collapsed": false,
    "ExecuteTime": {
     "end_time": "2023-12-26T20:01:20.880682600Z",
     "start_time": "2023-12-26T20:01:20.879175400Z"
    }
   },
   "id": "391fa0d978ea341a",
   "execution_count": 24
  },
  {
   "cell_type": "code",
   "outputs": [],
   "source": [
    "from llama_index import SimpleDirectoryReader"
   ],
   "metadata": {
    "collapsed": false,
    "ExecuteTime": {
     "end_time": "2023-12-26T20:01:20.886978800Z",
     "start_time": "2023-12-26T20:01:20.881681900Z"
    }
   },
   "id": "5a3a14f88912cfea",
   "execution_count": 25
  },
  {
   "cell_type": "markdown",
   "source": [
    "#### Load markdown docs from a directory, excluding all other file types."
   ],
   "metadata": {
    "collapsed": false
   },
   "id": "3912c0c9597b87fd"
  },
  {
   "cell_type": "code",
   "outputs": [],
   "source": [
    "def load_markdown_docs(filepath):\n",
    "    loader = SimpleDirectoryReader(\n",
    "        input_dir=filepath, \n",
    "        exclude=[\"*.rst\", \"*.ipynb\", \"*.py\", \"*.bat\", \"*.txt\", \"*.png\", \"*.jpg\", \"*.jpeg\", \"*.csv\", \"*.html\", \"*.js\", \"*.css\", \"*.pdf\", \"*.json\"],\n",
    "        file_extractor={\".md\": MarkdownDocsReader()},\n",
    "        recursive=True\n",
    "    )\n",
    "\n",
    "    return loader.load_data()"
   ],
   "metadata": {
    "collapsed": false,
    "ExecuteTime": {
     "end_time": "2023-12-26T20:01:20.895026400Z",
     "start_time": "2023-12-26T20:01:20.888982100Z"
    }
   },
   "id": "1521ba03649a09be",
   "execution_count": 26
  },
  {
   "cell_type": "markdown",
   "source": [
    "### loads project documents from each folder.\n",
    "separate for now, in order to create separate indexes later"
   ],
   "metadata": {
    "collapsed": false
   },
   "id": "8a91893c926ef175"
  },
  {
   "cell_type": "code",
   "outputs": [],
   "source": [
    "getting_started_docs = load_markdown_docs(\"docs/getting_started\")\n",
    "community_docs = load_markdown_docs(\"docs/community\")\n",
    "data_docs = load_markdown_docs(\"docs/core_modules/data_modules\")\n",
    "agent_docs = load_markdown_docs(\"docs/core_modules/agent_modules\")\n",
    "model_docs = load_markdown_docs(\"docs/core_modules/model_modules\")\n",
    "query_docs = load_markdown_docs(\"docs/core_modules/query_modules\")\n",
    "supporting_docs = load_markdown_docs(\"docs/core_modules/supporting_modules\")\n",
    "tutorials_docs = load_markdown_docs(\"docs/end_to_end_tutorials\")\n",
    "contributing_docs = load_markdown_docs(\"docs/development\")"
   ],
   "metadata": {
    "collapsed": false,
    "ExecuteTime": {
     "end_time": "2023-12-26T20:01:21.015307600Z",
     "start_time": "2023-12-26T20:01:20.897029600Z"
    }
   },
   "id": "c263508fcdcfc4b2",
   "execution_count": 27
  },
  {
   "cell_type": "markdown",
   "source": [
    "## Read Metadata"
   ],
   "metadata": {
    "collapsed": false
   },
   "id": "5fce51d5f037a251"
  },
  {
   "cell_type": "markdown",
   "source": [
    "### MetadataMode make printed file look nice"
   ],
   "metadata": {
    "collapsed": false
   },
   "id": "665f4bed6eb06c56"
  },
  {
   "cell_type": "code",
   "outputs": [
    {
     "name": "stdout",
     "output_type": "stream",
     "text": [
      "Doc ID: f527eab6-b9bb-4b45-b7d9-ddc48b1b1ce3\n",
      "Text: You can learn more about our Tool abstractions in our Tools\n",
      "section.\n"
     ]
    }
   ],
   "source": [
    "# Not formated with MetadataMode\n",
    "print(agent_docs[5])"
   ],
   "metadata": {
    "collapsed": false,
    "ExecuteTime": {
     "end_time": "2023-12-26T20:01:21.017684200Z",
     "start_time": "2023-12-26T20:01:21.016176900Z"
    }
   },
   "id": "b3f65a5cddaceb91",
   "execution_count": 28
  },
  {
   "cell_type": "code",
   "outputs": [],
   "source": [
    "from llama_index.schema import MetadataMode"
   ],
   "metadata": {
    "collapsed": false,
    "ExecuteTime": {
     "end_time": "2023-12-26T20:01:21.023827900Z",
     "start_time": "2023-12-26T20:01:21.018683900Z"
    }
   },
   "id": "8d28b060a3cff1b9",
   "execution_count": 29
  },
  {
   "cell_type": "code",
   "outputs": [
    {
     "name": "stdout",
     "output_type": "stream",
     "text": [
      "File Name: docs\\core_modules\\agent_modules\\agents\\root.md\n",
      "Content Type: text\n",
      "Header Path: Data Agents/Concept/Tool Abstractions\n",
      "Links: \n",
      "file_path: docs\\core_modules\\agent_modules\\agents\\root.md\n",
      "file_name: root.md\n",
      "file_type: None\n",
      "file_size: 2409\n",
      "creation_date: 2023-12-26\n",
      "last_modified_date: 2023-12-23\n",
      "last_accessed_date: 2023-12-26\n",
      "\n",
      "You can learn more about our Tool abstractions in our Tools section.\n"
     ]
    }
   ],
   "source": [
    "# Formated with MetadataMode\n",
    "print(agent_docs[5].get_content(metadata_mode=MetadataMode.ALL))"
   ],
   "metadata": {
    "collapsed": false,
    "ExecuteTime": {
     "end_time": "2023-12-26T20:01:21.032994800Z",
     "start_time": "2023-12-26T20:01:21.025833Z"
    }
   },
   "id": "7c98043c21b8dc1d",
   "execution_count": 30
  },
  {
   "cell_type": "markdown",
   "source": [
    "### Improve the Metadata print formatting "
   ],
   "metadata": {
    "collapsed": false
   },
   "id": "b2cc59c0606b5d87"
  },
  {
   "cell_type": "code",
   "outputs": [],
   "source": [
    "text_template = \"Content Metadata:\\n{metadata_str}\\n\\nContent:\\n{content}\"\n",
    "\n",
    "metadata_template = \"{key}: {value},\"\n",
    "metadata_seperator= \" \"\n",
    "\n",
    "for doc in agent_docs:\n",
    "    doc.text_template = text_template\n",
    "    doc.metadata_template = metadata_template\n",
    "    doc.metadata_seperator = metadata_seperator"
   ],
   "metadata": {
    "collapsed": false,
    "ExecuteTime": {
     "end_time": "2023-12-26T20:01:21.057993700Z",
     "start_time": "2023-12-26T20:01:21.032994800Z"
    }
   },
   "id": "c149832fefd3195d",
   "execution_count": 31
  },
  {
   "cell_type": "code",
   "outputs": [
    {
     "name": "stdout",
     "output_type": "stream",
     "text": [
      "Content Metadata:\n",
      "File Name: docs\\core_modules\\agent_modules\\agents\\modules.md, Content Type: text, Header Path: Module Guides, Links: , file_path: docs\\core_modules\\agent_modules\\agents\\modules.md, file_name: modules.md, file_type: None, file_size: 646, creation_date: 2023-12-26, last_modified_date: 2023-12-23, last_accessed_date: 2023-12-26,\n",
      "\n",
      "Content:\n",
      "These guide provide an overview of how to use our agent classes.\n",
      "\n",
      "For more detailed guides on how to use specific tools, check out our tools module guides.\n"
     ]
    }
   ],
   "source": [
    "print(agent_docs[0].get_content(metadata_mode=MetadataMode.ALL))"
   ],
   "metadata": {
    "collapsed": false,
    "ExecuteTime": {
     "end_time": "2023-12-26T20:01:21.057993700Z",
     "start_time": "2023-12-26T20:01:21.040216700Z"
    }
   },
   "id": "abd42c50d9437f1f",
   "execution_count": 32
  },
  {
   "cell_type": "markdown",
   "source": [
    "## Metadata Printing Advanced Customization"
   ],
   "metadata": {
    "collapsed": false
   },
   "id": "c56c8d18ea6e017f"
  },
  {
   "cell_type": "markdown",
   "source": [
    "### Hide the File Name from the LLM"
   ],
   "metadata": {
    "collapsed": false
   },
   "id": "20e53bf1fea91393"
  },
  {
   "cell_type": "code",
   "outputs": [
    {
     "name": "stdout",
     "output_type": "stream",
     "text": [
      "Content Metadata:\n",
      "File Name: docs\\core_modules\\agent_modules\\agents\\modules.md, Content Type: text, Header Path: Module Guides, Links: , file_path: docs\\core_modules\\agent_modules\\agents\\modules.md, file_type: None, file_size: 646, creation_date: 2023-12-26, last_modified_date: 2023-12-23, last_accessed_date: 2023-12-26,\n",
      "\n",
      "Content:\n",
      "These guide provide an overview of how to use our agent classes.\n",
      "\n",
      "For more detailed guides on how to use specific tools, check out our tools module guides.\n"
     ]
    }
   ],
   "source": [
    "agent_docs[0].excluded_llm_metadata_keys = [\"file_name\"]\n",
    "print(agent_docs[0].get_content(metadata_mode=MetadataMode.LLM))"
   ],
   "metadata": {
    "collapsed": false,
    "ExecuteTime": {
     "end_time": "2023-12-26T20:01:21.058993300Z",
     "start_time": "2023-12-26T20:01:21.046644900Z"
    }
   },
   "id": "bfc6845056853748",
   "execution_count": 33
  },
  {
   "cell_type": "markdown",
   "source": [
    "### Hide the File Name from the embedding model"
   ],
   "metadata": {
    "collapsed": false
   },
   "id": "710ac688cfc1ad"
  },
  {
   "cell_type": "code",
   "outputs": [
    {
     "name": "stdout",
     "output_type": "stream",
     "text": [
      "Content Metadata:\n",
      "File Name: docs\\core_modules\\agent_modules\\agents\\modules.md, Content Type: text, Header Path: Module Guides, Links: , file_path: docs\\core_modules\\agent_modules\\agents\\modules.md, file_type: None, file_size: 646, creation_date: 2023-12-26, last_modified_date: 2023-12-23, last_accessed_date: 2023-12-26,\n",
      "\n",
      "Content:\n",
      "These guide provide an overview of how to use our agent classes.\n",
      "\n",
      "For more detailed guides on how to use specific tools, check out our tools module guides.\n"
     ]
    }
   ],
   "source": [
    "agent_docs[0].excluded_embed_metadata_keys = [\"file_name\"]\n",
    "print(agent_docs[0].get_content(metadata_mode=MetadataMode.EMBED))"
   ],
   "metadata": {
    "collapsed": false,
    "ExecuteTime": {
     "end_time": "2023-12-26T20:01:21.085509500Z",
     "start_time": "2023-12-26T20:01:21.052992800Z"
    }
   },
   "id": "37d536efc9689178",
   "execution_count": 34
  },
  {
   "cell_type": "code",
   "outputs": [],
   "source": [],
   "metadata": {
    "collapsed": false,
    "ExecuteTime": {
     "end_time": "2023-12-26T20:01:21.085509500Z",
     "start_time": "2023-12-26T20:01:21.061813300Z"
    }
   },
   "id": "ce69ac8258cb61c0",
   "execution_count": 34
  }
 ],
 "metadata": {
  "kernelspec": {
   "display_name": "Python 3",
   "language": "python",
   "name": "python3"
  },
  "language_info": {
   "codemirror_mode": {
    "name": "ipython",
    "version": 2
   },
   "file_extension": ".py",
   "mimetype": "text/x-python",
   "name": "python",
   "nbconvert_exporter": "python",
   "pygments_lexer": "ipython2",
   "version": "2.7.6"
  }
 },
 "nbformat": 4,
 "nbformat_minor": 5
}
