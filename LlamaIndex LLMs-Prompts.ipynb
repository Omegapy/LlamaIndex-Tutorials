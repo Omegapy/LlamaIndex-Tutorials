{
 "cells": [
  {
   "cell_type": "markdown",
   "source": [
    "# LlamaIndex LLMs-Prompts : LlamaIndex Intro. Tutorial\n",
    "Alejandro Ricciardi (Omegapy)\n",
    "created date: 12/23/2023 GitHub: https://github.com/Omegapy\n",
    "\n",
    "Projects Description:\n",
    "Testing an LLM using the primary prompt templates used in LlamaIndex.\n",
    "LlamaIndex LLMs-Prompts tutorial base on LlamaIndex Bottoms-Up Development video series\n",
    "\n",
    "\n",
    "credit: LlamaIndex https://www.youtube.com/watch?v=p0jcvGiBKSA&t=201s"
   ],
   "metadata": {
    "collapsed": false
   },
   "id": "bcef53ed2feeb497"
  },
  {
   "cell_type": "markdown",
   "source": [
    "### API Keys\n",
    "This project you require API keys from: OpenAI: https://openai.com/ "
   ],
   "metadata": {
    "collapsed": false
   },
   "id": "5b25039ec7017c7c"
  },
  {
   "cell_type": "code",
   "outputs": [
    {
     "data": {
      "text/plain": "True"
     },
     "execution_count": 1,
     "metadata": {},
     "output_type": "execute_result"
    }
   ],
   "source": [
    "# Load environment variables API Keys\n",
    "\n",
    "from dotenv import load_dotenv,find_dotenv\n",
    "load_dotenv(find_dotenv()) "
   ],
   "metadata": {
    "collapsed": false,
    "ExecuteTime": {
     "end_time": "2023-12-23T15:53:08.505308800Z",
     "start_time": "2023-12-23T15:53:08.495962100Z"
    }
   },
   "id": "90c5df019088e481",
   "execution_count": 1
  },
  {
   "cell_type": "code",
   "outputs": [],
   "source": [],
   "metadata": {
    "collapsed": false
   },
   "id": "ac97eb8575e86bb2"
  }
 ],
 "metadata": {
  "kernelspec": {
   "display_name": "Python 3",
   "language": "python",
   "name": "python3"
  },
  "language_info": {
   "codemirror_mode": {
    "name": "ipython",
    "version": 2
   },
   "file_extension": ".py",
   "mimetype": "text/x-python",
   "name": "python",
   "nbconvert_exporter": "python",
   "pygments_lexer": "ipython2",
   "version": "2.7.6"
  }
 },
 "nbformat": 4,
 "nbformat_minor": 5
}
