{
 "cells": [
  {
   "cell_type": "markdown",
   "source": [
    "# Embeddings LlamaIndex-OpenAi: LlamaIndex Intro. Tutorial\n",
    "Alejandro Ricciardi (Omegapy)  \n",
    "created date: 12/30/2023 \n",
    "GitHub: https://github.com/Omegapy\n",
    "\n",
    "Projects Description:\n",
    "Embeddings are numerical representations of text. To generate embeddings for text, a specific model is required.\n",
    "\n",
    "In LlamaIndex, the default embedding model is text-embedding-ada-002 from OpenAI. You can also leverage any embedding models offered by Langchain and Huggingface using our LangchainEmbedding wrapper.\n",
    "\n",
    "In this notebook, we cover the low-level usage for both OpenAI embeddings and HuggingFace embeddings.\n",
    "\n",
    "- Initialization \n",
    "    - API Keys\n",
    "    - LLM Init.\n",
    "    - Load File\n",
    "\n",
    "- Templates\n",
    "    - Context\n",
    "    - Refined Context - More Context\n",
    "\n",
    "- Chat\n",
    "    - Simulate a ChatBot that can answer questions about llama-index.\n",
    "\n",
    "credit: LlamaIndex https://www.youtube.com/watch?v=mIyZ_9gqakE"
   ],
   "metadata": {
    "collapsed": false
   },
   "id": "95cc083f1eb746bc"
  },
  {
   "cell_type": "markdown",
   "source": [
    "### API Keys\n",
    "This project you require API keys from: OpenAI: https://openai.com/ "
   ],
   "metadata": {
    "collapsed": false
   },
   "id": "4f1cd8a9279d646a"
  },
  {
   "cell_type": "code",
   "outputs": [
    {
     "data": {
      "text/plain": "True"
     },
     "execution_count": 168,
     "metadata": {},
     "output_type": "execute_result"
    }
   ],
   "source": [
    "# Load environment variables API Keys\n",
    "\n",
    "from dotenv import load_dotenv,find_dotenv\n",
    "load_dotenv(find_dotenv()) "
   ],
   "metadata": {
    "collapsed": false,
    "ExecuteTime": {
     "end_time": "2023-12-30T23:58:59.947261500Z",
     "start_time": "2023-12-30T23:58:59.924660900Z"
    }
   },
   "id": "5c507e0f4d87c194",
   "execution_count": 168
  },
  {
   "cell_type": "markdown",
   "source": [
    "## OpenAI Embeddings"
   ],
   "metadata": {
    "collapsed": false
   },
   "id": "77c92b85b51e2579"
  },
  {
   "cell_type": "markdown",
   "source": [
    "#### Example of Embeddings using Open AI embedding\n",
    "LlamaIndex imports OpenAI model \"text-embedding-ada-002\"\n",
    "\n",
    "If using OpenAI:\n",
    "```\n",
    "import openai\n",
    "# Example\n",
    "response = openai.Embedding.create(\n",
    "  input=\"porcine pals say\",\n",
    "  model=\"text-embedding-ada-002\"\n",
    ")\n",
    "```\n",
    "\n",
    "Different embedding models can be used.\n",
    "In the website: https://huggingface.co/spaces/mteb/leaderboard,\n",
    "it is Text Embedding Benchmark (MTEB) Leaderboard.\n",
    "\n",
    "As 12/30/2023 OpenAI text-embedding-ada-002 model ranks 23.\n",
    "Note: the import benchmark is 'Sequence Length' (is the number of tokens that are processed by the transformer together)"
   ],
   "metadata": {
    "collapsed": false
   },
   "id": "f43ce50fb3d6295f"
  },
  {
   "cell_type": "code",
   "outputs": [
    {
     "name": "stdout",
     "output_type": "stream",
     "text": [
      "1536\n",
      "[-0.007677523884922266, -0.005429570563137531, -0.015862544998526573, -0.033494822680950165, -0.016825487837195396, -0.0031930040568113327, -0.015498187392950058, -0.0021015594247728586, -0.002940881997346878, -0.026936396956443787]\n"
     ]
    }
   ],
   "source": [
    "from llama_index.embeddings import OpenAIEmbedding\n",
    "openai_embedding = OpenAIEmbedding()\n",
    "embed = openai_embedding.get_text_embedding(\"hello world!\")\n",
    "print(len(embed))\n",
    "print(embed[:10])"
   ],
   "metadata": {
    "collapsed": false,
    "ExecuteTime": {
     "end_time": "2023-12-30T23:59:00.404886Z",
     "start_time": "2023-12-30T23:58:59.949263900Z"
    }
   },
   "id": "679699c33a4cd091",
   "execution_count": 169
  },
  {
   "cell_type": "markdown",
   "source": [
    "## Custom Embeddings\n",
    "\n",
    "Hugging Face\n",
    "\n",
    "While we can integrate with any embeddings offered by Langchain, you can also implement the BaseEmbedding class and run your own custom embedding model!\n",
    "\n",
    "For this, we will use the InstructorEmbedding pip package, in order to run hkunlp/instructor-large model found here: https://huggingface.co/hkunlp/instructor-large"
   ],
   "metadata": {
    "collapsed": false
   },
   "id": "a37ddd6074d4c2cb"
  },
  {
   "cell_type": "code",
   "outputs": [
    {
     "name": "stdout",
     "output_type": "stream",
     "text": [
      "Requirement already satisfied: InstructorEmbedding in c:\\users\\user\\anaconda3\\lib\\site-packages (1.0.1)\n",
      "Requirement already satisfied: torch in c:\\users\\user\\anaconda3\\lib\\site-packages (2.1.2)\n",
      "Requirement already satisfied: transformers in c:\\users\\user\\anaconda3\\lib\\site-packages (4.32.1)\n",
      "Requirement already satisfied: sentence_transformers in c:\\users\\user\\anaconda3\\lib\\site-packages (2.2.2)\n",
      "Requirement already satisfied: filelock in c:\\users\\user\\anaconda3\\lib\\site-packages (from torch) (3.13.1)\n",
      "Requirement already satisfied: typing-extensions in c:\\users\\user\\anaconda3\\lib\\site-packages (from torch) (4.7.1)\n",
      "Requirement already satisfied: sympy in c:\\users\\user\\anaconda3\\lib\\site-packages (from torch) (1.12)\n",
      "Requirement already satisfied: networkx in c:\\users\\user\\anaconda3\\lib\\site-packages (from torch) (3.1)\n",
      "Requirement already satisfied: jinja2 in c:\\users\\user\\anaconda3\\lib\\site-packages (from torch) (3.1.2)\n",
      "Requirement already satisfied: fsspec in c:\\users\\user\\anaconda3\\lib\\site-packages (from torch) (2023.10.0)\n",
      "Requirement already satisfied: huggingface-hub<1.0,>=0.15.1 in c:\\users\\user\\anaconda3\\lib\\site-packages (from transformers) (0.17.3)\n",
      "Requirement already satisfied: numpy>=1.17 in c:\\users\\user\\anaconda3\\lib\\site-packages (from transformers) (1.26.2)\n",
      "Requirement already satisfied: packaging>=20.0 in c:\\users\\user\\anaconda3\\lib\\site-packages (from transformers) (23.1)\n",
      "Requirement already satisfied: pyyaml>=5.1 in c:\\users\\user\\anaconda3\\lib\\site-packages (from transformers) (6.0.1)\n",
      "Requirement already satisfied: regex!=2019.12.17 in c:\\users\\user\\anaconda3\\lib\\site-packages (from transformers) (2023.10.3)\n",
      "Requirement already satisfied: requests in c:\\users\\user\\anaconda3\\lib\\site-packages (from transformers) (2.31.0)\n",
      "Requirement already satisfied: tokenizers!=0.11.3,<0.14,>=0.11.1 in c:\\users\\user\\anaconda3\\lib\\site-packages (from transformers) (0.13.3)\n",
      "Requirement already satisfied: safetensors>=0.3.1 in c:\\users\\user\\anaconda3\\lib\\site-packages (from transformers) (0.4.0)\n",
      "Requirement already satisfied: tqdm>=4.27 in c:\\users\\user\\anaconda3\\lib\\site-packages (from transformers) (4.65.0)\n",
      "Requirement already satisfied: torchvision in c:\\users\\user\\anaconda3\\lib\\site-packages (from sentence_transformers) (0.16.2)\n",
      "Requirement already satisfied: scikit-learn in c:\\users\\user\\anaconda3\\lib\\site-packages (from sentence_transformers) (1.2.2)\n",
      "Requirement already satisfied: scipy in c:\\users\\user\\anaconda3\\lib\\site-packages (from sentence_transformers) (1.11.4)\n",
      "Requirement already satisfied: nltk in c:\\users\\user\\anaconda3\\lib\\site-packages (from sentence_transformers) (3.8.1)\n",
      "Requirement already satisfied: sentencepiece in c:\\users\\user\\anaconda3\\lib\\site-packages (from sentence_transformers) (0.1.99)\n",
      "Requirement already satisfied: colorama in c:\\users\\user\\anaconda3\\lib\\site-packages (from tqdm>=4.27->transformers) (0.4.6)\n",
      "Requirement already satisfied: MarkupSafe>=2.0 in c:\\users\\user\\anaconda3\\lib\\site-packages (from jinja2->torch) (2.1.1)\n",
      "Requirement already satisfied: click in c:\\users\\user\\anaconda3\\lib\\site-packages (from nltk->sentence_transformers) (8.1.7)\n",
      "Requirement already satisfied: joblib in c:\\users\\user\\anaconda3\\lib\\site-packages (from nltk->sentence_transformers) (1.2.0)\n",
      "Requirement already satisfied: charset-normalizer<4,>=2 in c:\\users\\user\\anaconda3\\lib\\site-packages (from requests->transformers) (2.0.4)\n",
      "Requirement already satisfied: idna<4,>=2.5 in c:\\users\\user\\anaconda3\\lib\\site-packages (from requests->transformers) (3.4)\n",
      "Requirement already satisfied: urllib3<3,>=1.21.1 in c:\\users\\user\\anaconda3\\lib\\site-packages (from requests->transformers) (1.26.18)\n",
      "Requirement already satisfied: certifi>=2017.4.17 in c:\\users\\user\\anaconda3\\lib\\site-packages (from requests->transformers) (2023.11.17)\n",
      "Requirement already satisfied: threadpoolctl>=2.0.0 in c:\\users\\user\\anaconda3\\lib\\site-packages (from scikit-learn->sentence_transformers) (2.2.0)\n",
      "Requirement already satisfied: mpmath>=0.19 in c:\\users\\user\\anaconda3\\lib\\site-packages (from sympy->torch) (1.3.0)\n",
      "Requirement already satisfied: pillow!=8.3.*,>=5.3.0 in c:\\users\\user\\anaconda3\\lib\\site-packages (from torchvision->sentence_transformers) (10.0.1)\n"
     ]
    }
   ],
   "source": [
    "# Install dependencies\n",
    "!pip install InstructorEmbedding torch transformers sentence_transformers"
   ],
   "metadata": {
    "collapsed": false,
    "ExecuteTime": {
     "end_time": "2023-12-30T23:59:03.682588900Z",
     "start_time": "2023-12-30T23:59:00.402381800Z"
    }
   },
   "id": "a8d0cd58c136819",
   "execution_count": 170
  },
  {
   "cell_type": "markdown",
   "source": [
    "Test the embeddings! Instructor embeddings work by telling it to represent text in a particular domain.\n",
    "\n",
    "This makes sense for our llama-docs-bot, since we are search very specific documentation!\n",
    "\n",
    "Let's quickly test to make sure everything works."
   ],
   "metadata": {
    "collapsed": false
   },
   "id": "6de95b2b2267b7c8"
  },
  {
   "cell_type": "code",
   "outputs": [],
   "source": [
    "from InstructorEmbedding import INSTRUCTOR"
   ],
   "metadata": {
    "collapsed": false,
    "ExecuteTime": {
     "end_time": "2023-12-30T23:59:03.684593800Z",
     "start_time": "2023-12-30T23:59:03.682067800Z"
    }
   },
   "id": "3ceb713057ce410d",
   "execution_count": 171
  },
  {
   "cell_type": "code",
   "outputs": [
    {
     "name": "stdout",
     "output_type": "stream",
     "text": [
      "load INSTRUCTOR_Transformer\n",
      "max_seq_length  512\n",
      "[[-6.15552403e-02  1.04199732e-02  5.88440476e-03  1.93768777e-02\n",
      "   5.71417809e-02  2.57655568e-02 -4.01991711e-05 -2.80044340e-02\n",
      "  -2.92965490e-02  4.91884835e-02  6.78200275e-02  2.18692217e-02\n",
      "   4.54528593e-02  1.50187053e-02 -4.84451912e-02 -3.25259790e-02\n",
      "  -3.56492773e-02  1.19935293e-02 -6.83915569e-03  3.03126276e-02\n",
      "   5.17491661e-02  3.48140486e-02  4.91032610e-03  6.68928549e-02\n",
      "   1.52824381e-02  3.54217030e-02  1.07743731e-02  6.89828917e-02\n",
      "   4.44019474e-02 -3.23419459e-02  1.24267889e-02 -2.15528104e-02\n",
      "  -1.62690822e-02 -4.15058397e-02 -2.42290599e-03 -3.07158055e-03\n",
      "   4.27047275e-02  1.56428497e-02  2.57813111e-02  5.92843145e-02\n",
      "  -1.99174043e-02  1.32361855e-02  1.08408108e-02 -4.00610529e-02\n",
      "  -1.36212644e-03 -1.57032702e-02 -2.53812168e-02 -1.31972907e-02\n",
      "  -7.83779379e-03 -1.14009120e-02 -4.82025445e-02 -2.58416235e-02\n",
      "  -4.98770736e-03  4.98239510e-02  1.19490176e-02 -5.55060469e-02\n",
      "  -2.82120239e-02 -3.32208723e-02  2.46765073e-02 -5.66114485e-02\n",
      "  -5.12201246e-03  1.95142850e-02 -2.12629810e-02  1.92354005e-02\n",
      "   2.46064961e-02 -4.58347648e-02  3.27664390e-02 -3.99055816e-02\n",
      "   5.31269424e-02  9.05541470e-04  4.53844778e-02 -2.51501240e-02\n",
      "   1.74823008e-03 -9.64769274e-02 -9.51785594e-03 -6.47391425e-03\n",
      "   3.51561531e-02  3.58432494e-02 -5.11278324e-02  4.30903062e-02\n",
      "   4.58191559e-02  1.91871524e-02  2.38421746e-02 -1.71816275e-02\n",
      "  -1.52623300e-02  5.40182516e-02 -5.58873937e-02  4.29563038e-02\n",
      "   8.48113000e-03  7.83619471e-03 -3.27342637e-02 -1.08465347e-02\n",
      "  -7.19640125e-03 -4.37383093e-02 -1.88113581e-02  5.16907386e-02\n",
      "   4.62869145e-02 -2.63639949e-02  3.73640805e-02  1.84657890e-02\n",
      "   5.99115491e-02  1.80120463e-04 -2.35873722e-02  5.71749285e-02\n",
      "   1.20532885e-02 -3.81674655e-02 -3.55240926e-02  2.34814314e-03\n",
      "  -4.45778184e-02  9.34025366e-03  5.85194165e-03 -3.56189199e-02\n",
      "  -2.23838594e-02 -1.38211180e-03  8.74637347e-03  2.08802372e-02\n",
      "   7.03729093e-02 -4.39637005e-02 -4.53046598e-02 -4.76960465e-02\n",
      "   4.33718599e-02 -1.97182084e-03 -5.65527612e-03 -2.16748156e-02\n",
      "  -7.46926293e-02  1.90407690e-02 -2.33457424e-02 -5.68974428e-02\n",
      "  -9.49266367e-03  4.25821403e-03  3.14501673e-03  1.90789793e-02\n",
      "  -1.00613981e-02 -6.33771196e-02  4.90879007e-02  2.97247828e-03\n",
      "  -7.01222792e-02  1.71162952e-02  1.05466889e-02  8.59851614e-02\n",
      "  -5.78762181e-02 -3.88501175e-02  4.20247624e-03 -1.92795470e-02\n",
      "  -4.11053002e-02  7.98566919e-03  4.75644283e-02 -4.87977453e-02\n",
      "  -3.62159908e-02 -2.10572574e-02  4.02226821e-02 -4.74730395e-02\n",
      "  -2.78858617e-02  8.39250758e-02 -9.76028573e-03  2.62570418e-02\n",
      "  -5.60530685e-02  1.52837140e-02  1.54582551e-03  2.02960265e-03\n",
      "  -3.28001156e-02  5.76915927e-02 -7.33235329e-02 -4.00819927e-02\n",
      "  -3.98107879e-02 -3.84523645e-02 -8.67153239e-03  1.05411693e-01\n",
      "  -2.86331354e-03 -1.91161279e-02 -5.60036600e-02  9.67337191e-03\n",
      "   5.51290996e-02  2.56363582e-03 -2.94723529e-02  5.84518313e-02\n",
      "   5.15934192e-02 -1.61306828e-03 -2.19461918e-02  5.65167516e-02\n",
      "   4.74953167e-02 -2.44090594e-02 -2.66009029e-02 -5.86746866e-03\n",
      "   2.24451330e-02 -2.23603495e-03  4.56711743e-03  3.27842459e-02\n",
      "   5.26623242e-03 -2.01674383e-02 -2.33968012e-02  4.43987176e-02\n",
      "  -1.51708312e-02  7.38917477e-03  2.71087233e-02 -2.46057808e-02\n",
      "  -1.87857132e-02 -5.61448629e-04 -3.28655466e-02 -1.21782292e-02\n",
      "   1.79726945e-03 -1.50850732e-02  2.52194311e-02  1.25257745e-02\n",
      "  -2.65359617e-04  1.23138186e-02 -6.45002583e-03  1.02272697e-01\n",
      "  -2.98037790e-02  5.94182350e-02 -2.78096367e-03 -3.49573605e-02\n",
      "   3.06671858e-02  5.42211197e-02  5.95246293e-02  4.14741188e-02\n",
      "  -4.06689290e-03 -3.94712575e-02  1.96131375e-02  5.96131235e-02\n",
      "   4.44265716e-02  4.40843962e-02 -5.12231477e-02 -3.00020445e-02\n",
      "   3.01150177e-02  2.40174010e-02 -3.39305848e-02 -1.70433987e-02\n",
      "   8.32550600e-03  2.66083293e-02  7.67713971e-03  1.76458508e-02\n",
      "  -2.06325343e-03  1.77012887e-02 -6.08421639e-02 -7.96776712e-02\n",
      "   4.99934442e-02  2.96638533e-02 -4.47008433e-03  1.65794343e-02\n",
      "  -2.35370435e-02 -3.23977275e-03  2.61382554e-02 -1.34953344e-02\n",
      "  -1.60201695e-02 -1.08793890e-02 -1.77004933e-02 -6.53112307e-03\n",
      "   6.91720098e-02 -4.63659763e-02  4.15586568e-02  1.24583635e-02\n",
      "  -1.88729551e-04  2.47693434e-02 -3.62277217e-02  5.47523648e-02\n",
      "   1.54009983e-01  6.00456120e-03 -2.70665400e-02  4.70894836e-02\n",
      "   4.09195647e-02  4.31693941e-02  6.22434355e-02 -2.51828544e-02\n",
      "   6.71826899e-02  1.89108942e-02  3.67507823e-02  7.62735531e-02\n",
      "   5.01042639e-04 -7.33284140e-03  1.95556283e-02  8.43793601e-02\n",
      "   1.24929128e-02 -2.75657512e-03  4.97817099e-02 -1.73069760e-02\n",
      "   2.77005117e-02 -2.63486281e-02 -2.21686829e-02  3.95561755e-03\n",
      "  -9.68612451e-03  3.96470688e-02 -8.72506946e-03 -1.07546197e-02\n",
      "  -2.70988774e-02 -1.17305387e-02 -1.16984108e-02  4.52318490e-02\n",
      "  -9.12857521e-03 -1.14591718e-02  8.29535723e-03 -3.94435301e-02\n",
      "   8.80730990e-03 -3.67274508e-02 -4.45834622e-02 -2.38478333e-02\n",
      "   1.73519496e-02  2.46788189e-02 -9.24503207e-02  3.40846693e-03\n",
      "  -8.58144239e-02 -1.69283766e-02  8.74705520e-03 -2.66724010e-03\n",
      "  -3.10086645e-03 -6.62742779e-02  1.74709726e-02 -6.20296896e-02\n",
      "  -7.71831870e-02 -4.30789813e-02 -6.97873011e-02 -2.76594218e-02\n",
      "  -7.36039504e-02  2.61303876e-02  4.94785458e-02  1.88994557e-02\n",
      "   2.05077399e-02  5.93991671e-03 -2.71200538e-02 -4.64439616e-02\n",
      "   2.66322866e-02  2.63824351e-02  3.03616654e-03 -4.70094718e-02\n",
      "  -8.68525170e-03 -1.94979436e-03 -1.47214374e-02 -3.10322605e-02\n",
      "  -3.54933031e-02  7.64071643e-02  9.24097896e-02  1.11720460e-02\n",
      "   6.86150510e-03  2.67613661e-02 -4.66881357e-02 -4.80801016e-02\n",
      "  -1.76523384e-02 -5.05446680e-02 -2.54300348e-02 -2.59506684e-02\n",
      "  -2.86576096e-02 -3.34676653e-02 -3.07256319e-02  6.79465849e-03\n",
      "  -5.43393195e-02 -2.23256880e-03  1.03655150e-02  3.52348499e-02\n",
      "   2.40201522e-02 -2.09923624e-03 -8.59064758e-02 -4.86475714e-02\n",
      "   3.41627114e-02  9.51631553e-03  2.42882851e-03 -6.15580864e-02\n",
      "  -2.23672632e-02  1.49234347e-02 -6.16902346e-03 -2.94565596e-02\n",
      "  -8.48872494e-03  3.98517400e-02  3.54111306e-02 -1.31471343e-02\n",
      "  -2.31655985e-02 -2.86290571e-02  1.44813014e-02 -3.19011603e-03\n",
      "   5.59896464e-03 -6.02383316e-02 -5.41782789e-02  6.31063152e-03\n",
      "  -3.27196321e-03  6.00864403e-02 -4.93385196e-02 -1.23744858e-02\n",
      "  -2.60731541e-02  3.88635322e-02  3.19503061e-02  2.37053148e-02\n",
      "  -2.05829665e-02  1.42387543e-02 -3.58667336e-02 -3.98508646e-02\n",
      "   8.55067093e-03 -2.32857838e-02  1.41011123e-02  5.81302643e-02\n",
      "  -4.17654635e-03  7.78259477e-03  8.50560665e-02  2.76554450e-02\n",
      "   4.23116200e-02  2.45192833e-02 -2.62568872e-02  3.76733504e-02\n",
      "  -1.03408797e-02  2.60650199e-02  6.19981857e-03 -1.73710920e-02\n",
      "  -5.55875376e-02 -1.02811202e-01 -8.27027019e-03 -6.74284389e-03\n",
      "  -5.95137216e-02  1.29434848e-02  4.41100821e-02 -7.02070305e-03\n",
      "  -3.03075407e-02 -9.03240498e-03  2.10526660e-02  2.01296806e-02\n",
      "  -3.11780930e-03  4.94987443e-02 -2.36510020e-02  2.80551631e-02\n",
      "  -2.48605050e-02  5.25815412e-03 -5.47549576e-02 -1.80020742e-02\n",
      "  -6.72237342e-03  7.68097192e-02  2.41172425e-02  6.28411621e-02\n",
      "   4.77913134e-02 -1.15464758e-02 -4.14417200e-02  2.10504886e-02\n",
      "   6.09488524e-02 -2.36858018e-02 -3.18970941e-02  2.34901509e-03\n",
      "  -2.75846664e-03  1.48618571e-03 -4.22430318e-03  5.57199214e-03\n",
      "   2.00943574e-02  5.29720783e-02 -3.99871208e-02 -1.41997449e-02\n",
      "   3.94999571e-02 -1.47230728e-02 -4.10684384e-03 -6.41633645e-02\n",
      "  -2.31138356e-02  1.63525483e-03  6.87346281e-03  5.51297814e-02\n",
      "   1.13907373e-02  3.55854556e-02  5.87924346e-02  2.42435969e-02\n",
      "  -3.97643894e-02 -7.16551915e-02  4.69529629e-02 -3.05532175e-03\n",
      "  -4.91016582e-02 -9.50928181e-02 -1.41103975e-02  2.90550925e-02\n",
      "   2.07553841e-02 -2.56223720e-03 -2.63764877e-02 -5.93052665e-03\n",
      "   6.81197941e-02 -2.53772531e-02  6.08022772e-02  4.24165577e-02\n",
      "   4.66698818e-02  3.79461385e-02 -1.22388797e-02  6.11324459e-02\n",
      "  -1.82265025e-02 -8.81061610e-03  2.42136978e-02  2.62034498e-02\n",
      "  -1.55039001e-02 -2.20747255e-02 -5.16003110e-02  2.53373217e-02\n",
      "   3.05230264e-02  1.20210284e-02  8.25990066e-02 -2.68187243e-02\n",
      "  -3.36164162e-02 -3.96278352e-02  2.64574643e-02 -4.73223478e-02\n",
      "   5.45928217e-02  4.71893251e-02  5.40369861e-02 -3.63412127e-02\n",
      "  -4.38812077e-02 -9.25775245e-03 -1.49381869e-02  1.94572546e-02\n",
      "  -4.68942970e-02 -2.96848770e-02 -6.92514852e-02  2.51878519e-02\n",
      "  -1.31794019e-02 -3.26385312e-02 -8.38335231e-02  1.62501279e-02\n",
      "   5.05867181e-03 -3.85647714e-02  4.18353230e-02  4.50653620e-02\n",
      "   4.53344546e-02  3.85494605e-02  5.27763180e-02  9.01090540e-03\n",
      "  -2.32415088e-02  4.14123423e-02 -3.90885323e-02 -1.84995271e-02\n",
      "  -2.91617289e-02 -6.02056794e-02 -3.62731069e-02  4.92623961e-03\n",
      "  -1.51348067e-02 -1.77912563e-02 -6.56068744e-03  3.74852903e-02\n",
      "  -4.98752994e-03  3.45563218e-02  8.38177372e-03  1.23971319e-02\n",
      "   1.30274510e-02 -5.76015450e-02 -1.41846361e-02 -3.29240225e-02\n",
      "  -6.02640472e-02 -4.08707112e-02  6.09732643e-02 -5.65142417e-03\n",
      "  -2.64281537e-02  1.45489993e-02  1.39951427e-02  2.01470423e-02\n",
      "   1.63883958e-02 -4.30176109e-02  8.81801173e-03  9.79693979e-03\n",
      "  -4.37083431e-02 -1.07098492e-02 -2.09241956e-02 -1.68447606e-02\n",
      "   2.54024155e-02 -4.39964309e-02  2.77971867e-02  2.39688437e-02\n",
      "   4.46380069e-03 -4.09839489e-02  1.39753679e-02 -1.02954237e-02\n",
      "  -4.48161736e-02  1.04085580e-02 -2.32339446e-02  8.22257251e-03\n",
      "   1.08464016e-02 -7.12043094e-03 -2.48803962e-02  1.47036798e-02\n",
      "  -1.03130341e-02  5.29496670e-02  2.34216321e-02 -3.16518173e-02\n",
      "   2.24910676e-02 -1.01565309e-02  2.24805344e-02 -6.64025024e-02\n",
      "   2.63604373e-02 -2.33393181e-02  2.29447149e-02 -1.88058596e-02\n",
      "  -2.10313173e-03 -4.88403216e-02  4.41654548e-02 -2.42530406e-02\n",
      "  -3.33837792e-02  6.30347943e-03  1.08949130e-03  1.65917748e-03\n",
      "   1.43814590e-02 -6.16017263e-03  2.33820491e-02 -6.41303584e-02\n",
      "   2.14748457e-02  1.68789029e-02 -1.88098811e-02 -1.45088248e-02\n",
      "   4.35655601e-02 -3.56806479e-02 -1.71170775e-02  4.00117785e-03\n",
      "  -1.24641927e-02  3.74952145e-02  3.54862548e-02  2.71979440e-03\n",
      "   4.88897189e-02 -1.42481485e-02 -2.37889700e-02  1.45645384e-02\n",
      "  -5.29264510e-02 -3.16047631e-02 -2.55867969e-02  6.24948589e-04\n",
      "   1.23044606e-02  1.52396709e-02  5.92730939e-03 -6.96792603e-02\n",
      "  -4.38257158e-02  3.32457684e-02  4.29933369e-02  3.41573432e-02\n",
      "   5.74664539e-03  6.92843506e-03  2.19891705e-02  5.40519916e-02\n",
      "  -3.47650871e-02 -6.38606120e-03 -1.06168566e-02  5.59756253e-03\n",
      "   2.51517314e-02  1.97776896e-03 -9.76093858e-03  1.29118161e-02\n",
      "  -5.10915704e-02 -4.22592610e-02  6.32157102e-02  6.68453947e-02\n",
      "   3.72742824e-02 -1.31203672e-02 -3.29279900e-02  3.23108993e-02\n",
      "   2.64141113e-02 -4.51177135e-02  6.29258007e-02 -3.71045619e-03\n",
      "  -3.95429321e-02  5.86496741e-02 -5.98639436e-03  1.91448163e-02\n",
      "   3.20215076e-02  5.33388555e-02 -2.62014251e-02  2.29458027e-02\n",
      "  -1.26508791e-02  6.65133586e-03  6.07207865e-02 -3.29924375e-02\n",
      "  -2.04965230e-02 -5.14310300e-02  6.54849708e-02 -4.22492176e-02\n",
      "   9.26519260e-02  1.99730117e-02 -1.83647797e-02  1.88230642e-03\n",
      "  -4.16838378e-02 -6.10365570e-02  2.76884940e-02 -3.12236138e-02\n",
      "   5.57781421e-02 -3.40827927e-02 -5.36403544e-02  3.83231491e-02\n",
      "   1.50124533e-02 -6.74923360e-02  6.30307719e-02  1.23500954e-02\n",
      "   5.98304309e-02  2.07509529e-02  3.15652117e-02 -3.75223495e-02\n",
      "   3.68293896e-02 -6.04589432e-02  9.98122897e-03 -3.74645367e-02\n",
      "   4.14430397e-03  2.01168526e-02 -1.38435988e-02 -6.81751827e-03\n",
      "   3.87794641e-03 -8.58292542e-03 -1.53928995e-03  4.07204106e-02\n",
      "  -5.60819432e-02 -6.66264892e-02  2.24500205e-02  1.80751886e-02\n",
      "  -1.88873697e-03  1.47162694e-02 -2.16904916e-02  8.98237340e-03\n",
      "   3.33474725e-02 -1.17769316e-02 -2.53784470e-02  7.49978051e-03\n",
      "   1.59923322e-02 -5.08552343e-02 -2.55495682e-02  3.99980992e-02\n",
      "   2.41953228e-03 -1.39974086e-02  1.12951621e-02  1.01209851e-03\n",
      "  -1.35121023e-04  1.50756696e-02  3.66246747e-03  3.56586166e-02\n",
      "  -2.39739679e-02 -5.98192262e-03 -1.14465104e-02  7.17897806e-03\n",
      "  -7.58272642e-03 -1.56441089e-02  2.08631866e-02  4.67960946e-02\n",
      "   9.20427497e-03  9.97737423e-03 -1.69361997e-02 -3.79866697e-02\n",
      "   2.12063864e-02 -3.93209718e-02  2.39590015e-02  4.52189008e-03\n",
      "  -4.90422025e-02 -2.53686681e-02 -5.13280444e-02 -3.11175715e-02\n",
      "   3.69731300e-02 -3.32236551e-02  2.64319591e-02  3.13280411e-02\n",
      "   5.02047986e-02 -3.51830274e-02 -9.47780162e-02 -3.81823778e-02\n",
      "  -2.52813119e-02  8.34160484e-03  1.06830718e-02 -2.85213143e-02\n",
      "   1.14974333e-02 -1.63908284e-02 -5.35691455e-02  1.44921532e-02\n",
      "   1.44734364e-02  1.46977408e-02  3.46375965e-02  4.89880778e-02\n",
      "  -2.99605709e-02  7.35145062e-03  1.49103887e-02 -2.81755980e-02\n",
      "   4.02826741e-02  1.23248985e-02  2.03392226e-02  4.75965329e-02\n",
      "   4.34238538e-02  8.02047644e-03 -1.76123902e-03 -6.28188998e-02\n",
      "  -4.67858762e-02 -3.76614071e-02  1.02270301e-02  4.39473875e-02]]\n"
     ]
    }
   ],
   "source": [
    "model = INSTRUCTOR('hkunlp/instructor-large')\n",
    "sentence = \"3D ActionSLAM: wearable person tracking in multi-floor environments\"\n",
    "instruction = \"Represent the Science title:\"\n",
    "embeddings = model.encode([[instruction,sentence]])\n",
    "print(embeddings)"
   ],
   "metadata": {
    "collapsed": false,
    "ExecuteTime": {
     "end_time": "2023-12-30T23:59:05.224307900Z",
     "start_time": "2023-12-30T23:59:03.684593800Z"
    }
   },
   "id": "520bec83d5209eac",
   "execution_count": 172
  },
  {
   "cell_type": "markdown",
   "source": [
    "#### Undo Batching \n",
    "\n",
    "Looks good! But we can see the output is batched (i.e. a list of lists), so we need to undo the batching in our implementation!\n",
    "\n",
    "There are only 4 methods we need to implement below."
   ],
   "metadata": {
    "collapsed": false
   },
   "id": "745697bfd80ce366"
  },
  {
   "cell_type": "code",
   "outputs": [],
   "source": [
    "from typing import Any, List\n",
    "from InstructorEmbedding import INSTRUCTOR\n",
    "from llama_index.embeddings.base import BaseEmbedding"
   ],
   "metadata": {
    "collapsed": false,
    "ExecuteTime": {
     "end_time": "2023-12-30T23:59:05.226316700Z",
     "start_time": "2023-12-30T23:59:05.223271400Z"
    }
   },
   "id": "abbd3e9a152f05d",
   "execution_count": 173
  },
  {
   "cell_type": "code",
   "outputs": [],
   "source": [
    "\n",
    "class InstructorEmbeddings(BaseEmbedding):\n",
    "    \n",
    "    _instruction: str = \"Represent the Computer Science text for retrieval:\"\n",
    "     \n",
    "    def __init__(\n",
    "        self, \n",
    "        instructor_model_name: str = \"hkunlp/instructor-large\",\n",
    "        **kwargs: Any,\n",
    "    ) -> None:\n",
    "        _model: INSTRUCTOR = INSTRUCTOR(instructor_model_name)\n",
    "        super().__init__(**kwargs)\n",
    "\n",
    "    def _get_query_embedding(self, query: str) -> List[float]:\n",
    "        embeddings = model.encode([[self._instruction, query]])\n",
    "        return embeddings[0].tolist()\n",
    "    \n",
    "    async def _aget_query_embedding(self, query: str) -> List[float]:\n",
    "        return self._get_query_embedding(query)\n",
    "\n",
    "    def _get_text_embedding(self, text: str) -> List[float]:\n",
    "        embeddings = model.encode([[self._instruction, text]])\n",
    "        return embeddings[0].tolist() \n",
    "    \n",
    "    def _get_text_embeddings(self, texts: List[str]) -> List[List[float]]:\n",
    "        embeddings = model.encode([[self._instruction, text] for text in texts])\n",
    "        return embeddings.tolist()"
   ],
   "metadata": {
    "collapsed": false,
    "ExecuteTime": {
     "end_time": "2023-12-30T23:59:05.240909400Z",
     "start_time": "2023-12-30T23:59:05.226316700Z"
    }
   },
   "id": "188ce9a73a5c3859",
   "execution_count": 174
  },
  {
   "cell_type": "code",
   "outputs": [
    {
     "name": "stdout",
     "output_type": "stream",
     "text": [
      "load INSTRUCTOR_Transformer\n",
      "max_seq_length  512\n"
     ]
    }
   ],
   "source": [
    "# set the batch size to 1 to avoid memory issues\n",
    "# if you have a large GPU, you can increase this\n",
    "instructor_embeddings = InstructorEmbeddings(embed_batch_size=3)"
   ],
   "metadata": {
    "collapsed": false,
    "ExecuteTime": {
     "end_time": "2023-12-30T23:59:07.063218500Z",
     "start_time": "2023-12-30T23:59:05.240909400Z"
    }
   },
   "id": "972d345f093be419",
   "execution_count": 175
  },
  {
   "cell_type": "code",
   "outputs": [
    {
     "name": "stdout",
     "output_type": "stream",
     "text": [
      "768\n",
      "[0.003987060859799385, 0.012122981250286102, 0.002690523862838745, 0.01581709273159504, -0.005555964540690184, 0.03673827275633812, 0.010727009736001492, 0.00666137645021081, -0.0392913892865181, 0.013146855868399143]\n"
     ]
    }
   ],
   "source": [
    "embed = instructor_embeddings.get_text_embedding(\"How do I create a vector index?\")\n",
    "print(len(embed))\n",
    "print(embed[:10])"
   ],
   "metadata": {
    "collapsed": false,
    "ExecuteTime": {
     "end_time": "2023-12-30T23:59:07.118567400Z",
     "start_time": "2023-12-30T23:59:07.063218500Z"
    }
   },
   "id": "8b19eeba44dc0c29",
   "execution_count": 176
  }
 ],
 "metadata": {
  "kernelspec": {
   "display_name": "Python 3",
   "language": "python",
   "name": "python3"
  },
  "language_info": {
   "codemirror_mode": {
    "name": "ipython",
    "version": 2
   },
   "file_extension": ".py",
   "mimetype": "text/x-python",
   "name": "python",
   "nbconvert_exporter": "python",
   "pygments_lexer": "ipython2",
   "version": "2.7.6"
  }
 },
 "nbformat": 4,
 "nbformat_minor": 5
}
